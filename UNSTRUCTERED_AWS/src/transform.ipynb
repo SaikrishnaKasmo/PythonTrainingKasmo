{
 "cells": [
  {
   "cell_type": "code",
   "execution_count": 1,
   "metadata": {},
   "outputs": [],
   "source": [
    "import re\n"
   ]
  },
  {
   "cell_type": "code",
   "execution_count": 49,
   "metadata": {},
   "outputs": [],
   "source": [
    "all_text = '''Sai Krishna Kadupudi\n",
    "+1 (214)-430-8347 thisissaikrishnaapplying@gmail.com - www.linkedin.com/in/sai-krishna214\n",
    "EDUCATION\n",
    "Southern Arkansas University Magnolia, AR, USA\n",
    "Masters in Computer and Information Sciences - (3.85/4.0) Aug 2023 - May 2025\n",
    "Sathyabama University Chennai, Tamilnadu, India\n",
    "Bachelors in Computer Science and Engineering - (3.9/4.0) June 2019 - May 2023\n",
    "TECHNICAL SKILLS\n",
    "Programming Languages: Python,PySpark, C, C++,HTML,CSS,SQL,Flutter\n",
    "Libraries and Frameworks: Pandas,Power BI,Material UI\n",
    "Cloud Services: Aws, Azure\n",
    "Database Technologies and Visualization tools: PostgreSQL, MySQL, SQL Server, MongoDB,Cassandra, PowerBI,\n",
    "Tableau.\n",
    "WORK EXPERIENCE\n",
    "Data Analyst\n",
    "INFOWHIZ SOFTECH PVT LTD Apr 2022 - Jun 2023\n",
    "•Developed interactive dashboards and reports in Power BI using Power Query, DAX, and advanced visualizations,\n",
    "enabling data-driven decision-making.\n",
    "•Improved data quality by 20% through advanced data cleaning techniques, including handling missing values,\n",
    "outliers, and inconsistencies.\n",
    "•Led and optimized data analysis projects, enhancing processes and increasing data accuracy and customer\n",
    "satisfaction by 25%.\n",
    "•Designed and implemented scalable data pipelines, leveraging Python, SQL, AWS Lambda, and SSIS for efficient\n",
    "ETL processes and real-time data streaming.\n",
    "•Redesigned data warehouse architecture, reducing data retrieval time by 30% and improving accessibility for\n",
    "analysts and stakeholders.\n",
    "Flutter Developer Intern\n",
    "SINPLAY PVT LTD Jan 2022 - Mar 2022\n",
    "•Developed backend code to support content display on the application UI using Flutter\n",
    "•Collaborated with team members to ensure seamless integration of back-end functionality with front-end\n",
    "components\n",
    "•Responsible for troubleshooting and resolving user-reported bugs to enhance overall application performance and\n",
    "user experience\n",
    "•Demonstrated proficiency in Flutter development practices through internship experience\n",
    "Student Intern\n",
    "SAMSUNG SRIB June 2021 - Nov 2021\n",
    "•Resolved user-reported bugs, enhancing Android application functionality and user experience.\n",
    "•Contributed innovative ideas in team meetings to improve lock screen appearance and functionality.\n",
    "•Implemented solutions for lock screen issues, showcasing problem-solving and Android development skills.\n",
    "PROJECTS\n",
    "•Collectibles Exchange App Analysis , Lead team of 3 Actively involved in creating Data Visualisations, career\n",
    "conversations and provided data-driven insights with 95% more clear responses.Engineered and fine-tuned\n",
    "comprehensive Pandas reports, incorporating data visualizations; enabled a 20% increase in data-driven decisions\n",
    "and reduced manual reporting efforts by 30%.\n",
    "•Real Estate Ecommerce Website , Engineered a robust, object-oriented web application leveraging HTML, CSS,\n",
    "and MySQL; optimized user interface for property transactions, resulting in a 40% increase in user engagement\n",
    "and a 20% reduction in processing time.Configured and maintained MySQl database servers with 85% easier\n",
    "filtering through data.\n",
    "CERTIFICATIONS\n",
    "•Best Project Award for the Collectibles Exchange App Analysis.\n",
    "•Advanced SQL and PostgreSQL certifications from Great Learning and Simplilearn showcasing expertise in\n",
    "complex querying, database optimization, and management.\n",
    "\n",
    "'''"
   ]
  },
  {
   "cell_type": "code",
   "execution_count": 14,
   "metadata": {},
   "outputs": [
    {
     "name": "stdout",
     "output_type": "stream",
     "text": [
      "2144308347\n"
     ]
    }
   ],
   "source": [
    "pattern = re.compile(r'\\(?(\\d){3}\\)?(\\.|-)(\\d){3}(\\.|-)(\\d){4}')\n",
    "matches = pattern.finditer(all_text)\n",
    "for match in matches:\n",
    "    phone_number = re.sub(r'\\D', \"\", match.group(0))  # remove all non-digits\n",
    "    print(phone_number)"
   ]
  },
  {
   "cell_type": "code",
   "execution_count": 25,
   "metadata": {},
   "outputs": [
    {
     "name": "stdout",
     "output_type": "stream",
     "text": [
      "Sai Krishna Kadupudi\n",
      "\n"
     ]
    }
   ],
   "source": [
    "pattern = re.compile(r'^([a-zA-Z ])+\\n')\n",
    "matches = pattern.finditer(all_text)\n",
    "for match in matches:\n",
    "    print(match.group(0))"
   ]
  },
  {
   "cell_type": "code",
   "execution_count": 26,
   "metadata": {},
   "outputs": [
    {
     "name": "stdout",
     "output_type": "stream",
     "text": [
      "thisissaikrishnaapplying@gmail.com\n"
     ]
    }
   ],
   "source": [
    "pattern = re.compile(r'[a-zA-Z0-9_\\.]+@[a-zA-Z0-9_]+\\.(com|edu|net|edu|net)',re.IGNORECASE)\n",
    "matches = pattern.finditer(all_text)\n",
    "for match in matches:\n",
    "    print(match.group(0))"
   ]
  },
  {
   "cell_type": "code",
   "execution_count": 50,
   "metadata": {},
   "outputs": [
    {
     "name": "stdout",
     "output_type": "stream",
     "text": [
      "2\n"
     ]
    }
   ],
   "source": [
    "pattern = re.compile(r'Experience(.*?)\\n+(Education|Skills|Projects|$)',re.DOTALL|re.IGNORECASE)\n",
    "match = pattern.search(all_text)\n",
    "if match:\n",
    "    experience_text = match.group(1).strip()\n",
    "pattern = re.compile(r'\\b\\d{4}\\b')  # match any 4-digit year\n",
    "matches = pattern.findall(experience_text)\n",
    "years = list(map(int, matches))\n",
    "l_min = min(years)\n",
    "l_max = max(years)\n",
    "print(l_max-l_min)"
   ]
  },
  {
   "cell_type": "code",
   "execution_count": 47,
   "metadata": {},
   "outputs": [
    {
     "name": "stdout",
     "output_type": "stream",
     "text": [
      "2\n"
     ]
    }
   ],
   "source": [
    "pattern = re.compile(r'\\b\\d{4}\\b')  # match any 4-digit year\n",
    "matches = pattern.findall(experience_text)\n",
    "years = list(map(int, matches))\n",
    "\n",
    "# Find min and max\n",
    "l_min = min(years)\n",
    "l_max = max(years)\n",
    "print(l_max-l_min)\n"
   ]
  },
  {
   "cell_type": "code",
   "execution_count": 32,
   "metadata": {},
   "outputs": [
    {
     "name": "stdout",
     "output_type": "stream",
     "text": [
      "📌 Full Experience Section:\n",
      " Data Analyst\n",
      "INFOWHIZ SOFTECH PVT LTD Apr 2022 - Jun 2023\n",
      "•Developed interactive dashboards and reports in Power BI using Power Query, DAX, and advanced visualizations,\n",
      "enabling data-driven decision-making.\n",
      "•Improved data quality by 20% through advanced data cleaning techniques, including handling missing values,\n",
      "outliers, and inconsistencies.\n",
      "•Led and optimized data analysis\n"
     ]
    }
   ],
   "source": [
    "import re\n",
    "\n",
    "pattern = re.compile(r'Experience(.*?)(Education|Skills|Projects|$)', re.DOTALL | re.IGNORECASE)\n",
    "match = pattern.search(all_text)\n",
    "\n",
    "experience_text = \"\"\n",
    "if match:\n",
    "    experience_text = match.group(1).strip()\n",
    "    print(\"📌 Full Experience Section:\\n\", experience_text)\n",
    "\n",
    "\n",
    "job_pattern = re.compile(\n",
    "    r'(?P<title>[A-Za-z\\s]+)\\s+at\\s+(?P<company>[A-Za-z\\s,&]+)\\s*\\((?P<years>\\d{4}.*?\\d{4}|Present)\\)',\n",
    "    re.IGNORECASE\n",
    ")\n",
    "\n",
    "jobs = job_pattern.finditer(experience_text)\n",
    "for job in jobs:\n",
    "    print(\"Role:\", job.group(\"title\").strip())\n",
    "    print(\"Company:\", job.group(\"company\").strip())\n",
    "    print(\"Years:\", job.group(\"years\").strip())\n",
    "    print(\"-\" * 50)\n",
    "\n"
   ]
  }
 ],
 "metadata": {
  "kernelspec": {
   "display_name": "3.10.1",
   "language": "python",
   "name": "python3"
  },
  "language_info": {
   "codemirror_mode": {
    "name": "ipython",
    "version": 3
   },
   "file_extension": ".py",
   "mimetype": "text/x-python",
   "name": "python",
   "nbconvert_exporter": "python",
   "pygments_lexer": "ipython3",
   "version": "3.10.1"
  }
 },
 "nbformat": 4,
 "nbformat_minor": 2
}
