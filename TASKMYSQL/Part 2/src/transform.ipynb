{
 "cells": [
  {
   "cell_type": "code",
   "execution_count": null,
   "metadata": {},
   "outputs": [],
   "source": []
  },
  {
   "cell_type": "code",
   "execution_count": 2,
   "metadata": {},
   "outputs": [],
   "source": [
    "import pandas as pd\n"
   ]
  },
  {
   "cell_type": "code",
   "execution_count": 7,
   "metadata": {},
   "outputs": [],
   "source": [
    "dim_customers_before1 = pd.read_csv(\"../data/dim_customers_before1.csv\")\n",
    "customers_snapshot1 = pd.read_csv(\"../data/customers_snapshot1.csv\")\n"
   ]
  },
  {
   "cell_type": "code",
   "execution_count": 8,
   "metadata": {},
   "outputs": [],
   "source": [
    "\n",
    "\n",
    "merged = dim_customers_before1.merge(customers_snapshot1, on=\"customer_id\", how=\"left\", suffixes=(\"_new\", \"_old\"))"
   ]
  },
  {
   "cell_type": "code",
   "execution_count": 11,
   "metadata": {},
   "outputs": [],
   "source": [
    "change_mask = (\n",
    "    (merged['region_new'] != merged['region_old']) |\n",
    "    (merged['loyalty_tier_new'] != merged['loyalty_tier_old']) |\n",
    "    (merged['email_new'] != merged['email_old'])\n",
    ")\n",
    "\n",
    "changed_customers = merged[change_mask & merged['name_old'].notna()]\n",
    "new_customers = merged[merged['name_old'].isna()]"
   ]
  },
  {
   "cell_type": "code",
   "execution_count": 15,
   "metadata": {},
   "outputs": [],
   "source": [
    "from datetime import datetime\n",
    "today = datetime.today().date()\n",
    "customers_snapshot1.loc[\n",
    "    customers_snapshot1['customer_id'].isin(changed_customers['customer_id']),\n",
    "    ['valid_to', 'is_current']\n",
    "] = [pd.to_datetime(today) - pd.Timedelta(days=1), \"N\"]\n"
   ]
  }
 ],
 "metadata": {
  "kernelspec": {
   "display_name": "3.10.1",
   "language": "python",
   "name": "python3"
  },
  "language_info": {
   "codemirror_mode": {
    "name": "ipython",
    "version": 3
   },
   "file_extension": ".py",
   "mimetype": "text/x-python",
   "name": "python",
   "nbconvert_exporter": "python",
   "pygments_lexer": "ipython3",
   "version": "3.10.1"
  }
 },
 "nbformat": 4,
 "nbformat_minor": 2
}
