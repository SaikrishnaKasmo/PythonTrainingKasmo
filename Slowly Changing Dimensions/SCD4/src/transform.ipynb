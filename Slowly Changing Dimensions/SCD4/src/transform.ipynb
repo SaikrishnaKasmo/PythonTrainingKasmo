{
 "cells": [
  {
   "cell_type": "code",
   "execution_count": null,
   "metadata": {},
   "outputs": [
    {
     "name": "stdout",
     "output_type": "stream",
     "text": [
      "    CustomerID FirstName LastName                Email       Phone  \\\n",
      "0          101      John      Doe    john.doe@mail.com  1234567890   \n",
      "1          102      Jane    Smith  jane.smith@mail.com  9876543210   \n",
      "2          103     Alice  Johnson     alice.j@mail.com  5551234567   \n",
      "3          104       Bob    Brown       bob.b@mail.com  4449876543   \n",
      "4          105     Carol    White     carol.w@mail.com  3335558888   \n",
      "5          106     David    Green     david.g@mail.com  2224446666   \n",
      "6          107      Emma    Black      emma.b@mail.com  1113335555   \n",
      "7          108     Frank     Blue     frank.b@mail.com  7778889999   \n",
      "8          109     Grace      Red     grace.r@mail.com  6667778888   \n",
      "9          110     Henry     Gold     henry.g@mail.com  5556667777   \n",
      "10         111       Ivy     Gray       ivy.g@mail.com  4445556666   \n",
      "11         112      Jack    White      jack.w@mail.com  3334445555   \n",
      "12         113     Karen    Black     karen.b@mail.com  2223334444   \n",
      "13         114       Leo     Blue       leo.b@mail.com  1112223333   \n",
      "14         115       Mia    Green       mia.g@mail.com  5551112222   \n",
      "\n",
      "           Address  CurrentFlag  Version LoyaltyTier PrevLoyaltyTier  \\\n",
      "0      123 Main St            1        1        Gold          Silver   \n",
      "1       456 Oak St            1        1    Platinum            Gold   \n",
      "2     321 Maple St            1        1      Silver             NaN   \n",
      "3      654 Pine St            1        1      Silver          Bronze   \n",
      "4     987 Cedar St            1        1        Gold          Silver   \n",
      "5     111 Birch St            1        1        Gold             NaN   \n",
      "6    222 Spruce St            1        1      Silver             NaN   \n",
      "7    333 Willow St            1        1      Bronze             NaN   \n",
      "8     444 Aspen St            1        1      Silver             NaN   \n",
      "9       555 Elm St            1        1    Platinum             NaN   \n",
      "10      666 Fir St            1        1        Gold             NaN   \n",
      "11  777 Cypress St            1        1      Silver             NaN   \n",
      "12  888 Redwood St            1        1      Bronze             NaN   \n",
      "13      999 Oak St            1        1      Silver             NaN   \n",
      "14   1010 Maple St            1        1        Gold             NaN   \n",
      "\n",
      "   SubscriptionStart  SubscriptionEnd  \n",
      "0         2020-01-01              NaN  \n",
      "1         2019-06-15              NaN  \n",
      "2         2021-03-10              NaN  \n",
      "3         2018-11-25              NaN  \n",
      "4         2022-07-01              NaN  \n",
      "5         2023-05-20              NaN  \n",
      "6         2023-06-10              NaN  \n",
      "7         2022-12-01              NaN  \n",
      "8         2023-01-15              NaN  \n",
      "9         2023-02-20              NaN  \n",
      "10        2023-03-01              NaN  \n",
      "11        2023-04-05              NaN  \n",
      "12        2023-05-12              NaN  \n",
      "13        2023-06-18              NaN  \n",
      "14        2023-07-25              NaN  \n"
     ]
    },
    {
     "name": "stderr",
     "output_type": "stream",
     "text": [
      "/var/folders/lf/t99r2kld24b_rf83zv2l_ll40000gn/T/ipykernel_79041/311258855.py:35: FutureWarning: Setting an item of incompatible dtype is deprecated and will raise an error in a future version of pandas. Value 'Silver' has dtype incompatible with float64, please explicitly cast to a compatible dtype first.\n",
      "  df1.loc[(df1.CustomerID == cust_id) & (df1.CurrentFlag == 1), \"PrevLoyaltyTier\"] = row[\"LoyaltyTier_old\"]\n"
     ]
    }
   ],
   "source": [
    "import pandas as pd\n",
    "df1  = pd.read_csv('../data/Customer_Master.csv')\n",
    "df2 = pd.read_csv('../data/Customer_Updates.csv')\n",
    "\n",
    "# ----------------------------\n",
    "# Step 1: Prepare current df1 only\n",
    "# ----------------------------\n",
    "df1 = df1.copy()\n",
    "df2 = df2.copy()\n",
    "\n",
    "current_df1 = df1[df1[\"CurrentFlag\"] == 1]\n",
    "\n",
    "# ----------------------------\n",
    "# Step 2: Find existing vs new customers\n",
    "# ----------------------------\n",
    "existing_ids = set(current_df1[\"CustomerID\"])\n",
    "incoming_ids = set(df2[\"CustomerID\"])\n",
    "\n",
    "new_ids = incoming_ids - existing_ids\n",
    "existing_ids_to_update = incoming_ids & existing_ids\n",
    "\n",
    "# ----------------------------\n",
    "# Step 3: Handle updates for existing customers\n",
    "# ----------------------------\n",
    "merged = current_df1.merge(df2, on=\"CustomerID\", suffixes=(\"_old\", \"_new\"), how=\"inner\")\n",
    "\n",
    "# new_records = []\n",
    "\n",
    "for _, row in merged.iterrows():\n",
    "    cust_id = row[\"CustomerID\"]\n",
    "\n",
    "    # --- SCD2 for Address ---\n",
    "    if (row[\"LoyaltyTier_old\"] != row[\"LoyaltyTier_new\"]) &  (cust_id in existing_ids):\n",
    "        # Close old record\n",
    "        df1.loc[(df1.CustomerID == cust_id) & (df1.CurrentFlag == 1), \"PrevLoyaltyTier\"] = row[\"LoyaltyTier_old\"]\n",
    "        df1.loc[(df1.CustomerID == cust_id) & (df1.CurrentFlag == 1), \"LoyaltyTier\"] = row[\"LoyaltyTier_new\"]\n",
    "\n",
    "print(df1)\n"
   ]
  }
 ],
 "metadata": {
  "kernelspec": {
   "display_name": "3.10.1",
   "language": "python",
   "name": "python3"
  },
  "language_info": {
   "codemirror_mode": {
    "name": "ipython",
    "version": 3
   },
   "file_extension": ".py",
   "mimetype": "text/x-python",
   "name": "python",
   "nbconvert_exporter": "python",
   "pygments_lexer": "ipython3",
   "version": "3.10.1"
  }
 },
 "nbformat": 4,
 "nbformat_minor": 2
}
